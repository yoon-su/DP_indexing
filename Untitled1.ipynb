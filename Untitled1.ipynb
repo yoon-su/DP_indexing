{
 "cells": [
  {
   "cell_type": "markdown",
   "metadata": {},
   "source": [
    "https://neurowhai.tistory.com/158"
   ]
  },
  {
   "cell_type": "code",
   "execution_count": 2,
   "metadata": {},
   "outputs": [],
   "source": [
    "import numpy as np\n",
    "import keras\n",
    "from keras import layers, models, datasets, backend\n",
    "from keras.utils import np_utils\n",
    "import matplotlib.pyplot as plt\n",
    "from sklearn import model_selection\n",
    "from keras.preprocessing.image import ImageDataGenerator"
   ]
  },
  {
   "cell_type": "code",
   "execution_count": 2,
   "metadata": {},
   "outputs": [],
   "source": [
    "class CNN(models.Sequential):\n",
    "    def __init__(self, input_shape, num_classes):\n",
    "        super().__init__()\n",
    " \n",
    "        self.add(layers.Conv2D(32, kernel_size=(3, 3),\n",
    "                               activation='relu',\n",
    "                               input_shape=input_shape))\n",
    "        self.add(layers.Conv2D(64, (3, 3), activation='relu'))\n",
    "        self.add(layers.MaxPooling2D(pool_size=(2, 2)))\n",
    "        self.add(layers.Dropout(0.25))\n",
    "        self.add(layers.Flatten())\n",
    "        self.add(layers.Dense(128, activation='relu'))\n",
    "        self.add(layers.Dropout(0.5))\n",
    "        self.add(layers.Dense(num_classes, activation='softmax'))\n",
    " \n",
    "        self.compile(loss=keras.losses.categorical_crossentropy,\n",
    "                     optimizer='rmsprop', metrics=['accuracy'])"
   ]
  },
  {
   "cell_type": "code",
   "execution_count": 3,
   "metadata": {},
   "outputs": [],
   "source": [
    "class DataML():\n",
    "    def __init__(self):\n",
    "        (x_train, y_train), (x_test, y_test) = datasets.mnist.load_data()\n",
    "        \n",
    "        _, x_train, _, y_train = model_selection.train_test_split(x_train,\n",
    "                                                                 y_train,\n",
    "                                                                 test_size=0.02)\n",
    " \n",
    "        y_train = np_utils.to_categorical(y_train)\n",
    "        y_test = np_utils.to_categorical(y_test)\n",
    " \n",
    "        img_rows, img_cols = x_train.shape[1:]\n",
    " \n",
    "        if backend.image_data_format() == 'channels_first':\n",
    "            x_train = x_train.reshape(x_train.shape[0], 1, img_rows, img_cols)\n",
    "            x_test = x_test.reshape(x_test.shape[0], 1, img_rows, img_cols)\n",
    "            input_shape = (1, img_rows, img_cols)\n",
    "        else:\n",
    "            x_train = x_train.reshape(x_train.shape[0], img_rows, img_cols, 1)\n",
    "            x_test = x_test.reshape(x_test.shape[0], img_rows, img_cols, 1)\n",
    "            input_shape = (img_rows, img_cols, 1)\n",
    " \n",
    "        x_train = x_train.astype('float32')\n",
    "        x_test = x_test.astype('float32')\n",
    "        x_train /= 255.0\n",
    "        x_test /= 255.0\n",
    " \n",
    "        self.input_shape = input_shape\n",
    "        self.num_classes = 10\n",
    "        self.x_train, self.y_train = x_train, y_train\n",
    "        self.x_test, self.y_test = x_test, y_test\n",
    "        self.generator = ImageDataGenerator(rotation_range=20,\n",
    "                                           width_shift_range=0.05,\n",
    "                                           height_shift_range=0.05)"
   ]
  },
  {
   "cell_type": "code",
   "execution_count": 4,
   "metadata": {},
   "outputs": [],
   "source": [
    "def plot_loss(history):\n",
    "    plt.plot(history.history['loss'])\n",
    "    plt.plot(history.history['val_loss'])\n",
    "    plt.title('Model Loss')\n",
    "    plt.ylabel('Loss')\n",
    "    plt.xlabel('Epoch')\n",
    "    plt.legend(['Train', 'Test'], loc=0)\n",
    " \n",
    "def plot_acc(history):\n",
    "    plt.plot(history.history['acc'])\n",
    "    plt.plot(history.history['val_acc'])\n",
    "    plt.title('Model accuracy')\n",
    "    plt.ylabel('Accuracy')\n",
    "    plt.xlabel('Epoch')\n",
    "    plt.legend(['Train', 'Test'], loc=0)"
   ]
  },
  {
   "cell_type": "code",
   "execution_count": 5,
   "metadata": {},
   "outputs": [
    {
     "name": "stderr",
     "output_type": "stream",
     "text": [
      "W1211 18:18:03.584276 21496 module_wrapper.py:137] From C:\\Users\\data3\\Anaconda3\\lib\\site-packages\\keras\\backend\\tensorflow_backend.py:74: The name tf.get_default_graph is deprecated. Please use tf.compat.v1.get_default_graph instead.\n",
      "\n",
      "W1211 18:18:03.611291 21496 module_wrapper.py:137] From C:\\Users\\data3\\Anaconda3\\lib\\site-packages\\keras\\backend\\tensorflow_backend.py:3976: The name tf.nn.max_pool is deprecated. Please use tf.nn.max_pool2d instead.\n",
      "\n",
      "W1211 18:18:03.618293 21496 deprecation.py:506] From C:\\Users\\data3\\Anaconda3\\lib\\site-packages\\keras\\backend\\tensorflow_backend.py:3445: calling dropout (from tensorflow.python.ops.nn_ops) with keep_prob is deprecated and will be removed in a future version.\n",
      "Instructions for updating:\n",
      "Please use `rate` instead of `keep_prob`. Rate should be set to `rate = 1 - keep_prob`.\n",
      "W1211 18:18:03.666304 21496 module_wrapper.py:137] From C:\\Users\\data3\\Anaconda3\\lib\\site-packages\\keras\\optimizers.py:790: The name tf.train.Optimizer is deprecated. Please use tf.compat.v1.train.Optimizer instead.\n",
      "\n",
      "W1211 18:18:03.750321 21496 deprecation.py:323] From C:\\Users\\data3\\Anaconda3\\lib\\site-packages\\tensorflow_core\\python\\ops\\math_grad.py:1424: where (from tensorflow.python.ops.array_ops) is deprecated and will be removed in a future version.\n",
      "Instructions for updating:\n",
      "Use tf.where in 2.0, which has the same broadcast rule as np.where\n"
     ]
    },
    {
     "name": "stdout",
     "output_type": "stream",
     "text": [
      "Epoch 1/10\n",
      " - 4s - loss: 1.8851 - acc: 0.3840 - val_loss: 0.9284 - val_acc: 0.7655\n",
      "Epoch 2/10\n",
      " - 3s - loss: 1.1550 - acc: 0.6360 - val_loss: 0.5308 - val_acc: 0.8600\n",
      "Epoch 3/10\n",
      " - 3s - loss: 0.8956 - acc: 0.7130 - val_loss: 0.3765 - val_acc: 0.8956\n",
      "Epoch 4/10\n",
      " - 3s - loss: 0.7973 - acc: 0.7550 - val_loss: 0.3591 - val_acc: 0.8964\n",
      "Epoch 5/10\n",
      " - 3s - loss: 0.6284 - acc: 0.8100 - val_loss: 0.2887 - val_acc: 0.9161\n",
      "Epoch 6/10\n",
      " - 3s - loss: 0.6248 - acc: 0.8120 - val_loss: 0.2308 - val_acc: 0.9434\n",
      "Epoch 7/10\n",
      " - 3s - loss: 0.5495 - acc: 0.8290 - val_loss: 0.1828 - val_acc: 0.9542\n",
      "Epoch 8/10\n",
      " - 3s - loss: 0.4794 - acc: 0.8500 - val_loss: 0.1814 - val_acc: 0.9528\n",
      "Epoch 9/10\n",
      " - 3s - loss: 0.4668 - acc: 0.8430 - val_loss: 0.1559 - val_acc: 0.9544\n",
      "Epoch 10/10\n",
      " - 3s - loss: 0.4419 - acc: 0.8710 - val_loss: 0.1331 - val_acc: 0.9586\n",
      "\n",
      "Test Result -> [0.1331146206986159, 0.9586000055074692]\n"
     ]
    },
    {
     "data": {
      "image/png": "[encoded data removed]",
      "text/plain": [
       "<Figure size 432x288 with 1 Axes>"
      ]
     },
     "metadata": {
      "needs_background": "light"
     },
     "output_type": "display_data"
    },
    {
     "data": {
      "image/png": "[encoded data removed]",
      "text/plain": [
       "<Figure size 432x288 with 1 Axes>"
      ]
     },
     "metadata": {
      "needs_background": "light"
     },
     "output_type": "display_data"
    }
   ],
   "source": [
    "def main():\n",
    "    batch_size = 100\n",
    "    epochs = 10\n",
    " \n",
    "    data = DataML()\n",
    "    model = CNN(data.input_shape, data.num_classes)\n",
    "    \n",
    "    data_flow = data.generator.flow(data.x_train, data.y_train,\n",
    "                                    batch_size=batch_size)\n",
    " \n",
    "    history = model.fit_generator(data_flow, epochs=epochs, steps_per_epoch=10,\n",
    "                                  verbose=2, validation_data=(data.x_test, data.y_test))\n",
    " \n",
    "    performance_test = model.evaluate(data.x_test, data.y_test, batch_size=100,\n",
    "        verbose=0)\n",
    "    print('\\nTest Result ->', performance_test)\n",
    " \n",
    "    plot_acc(history)\n",
    "    plt.show()\n",
    "    plot_loss(history)\n",
    "    plt.show()\n",
    " \n",
    "if __name__ == '__main__':\n",
    "    main()"
   ]
  },
  {
   "cell_type": "code",
   "execution_count": null,
   "metadata": {},
   "outputs": [],
   "source": []
  }
 ],
 "metadata": {
  "kernelspec": {
   "display_name": "Python 3",
   "language": "python",
   "name": "python3"
  },
  "language_info": {
   "codemirror_mode": {
    "name": "ipython",
    "version": 3
   },
   "file_extension": ".py",
   "mimetype": "text/x-python",
   "name": "python",
   "nbconvert_exporter": "python",
   "pygments_lexer": "ipython3",
   "version": "3.7.3"
  }
 },
 "nbformat": 4,
 "nbformat_minor": 4
}
