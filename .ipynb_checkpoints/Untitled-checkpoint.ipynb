{
 "cells": [
  {
   "cell_type": "code",
   "execution_count": 1,
   "metadata": {},
   "outputs": [],
   "source": [
    "import os\n",
    "import glob\n",
    "import numpy as np\n",
    "import cv2\n",
    "import matplotlib.pyplot as plt"
   ]
  },
  {
   "cell_type": "code",
   "execution_count": 2,
   "metadata": {},
   "outputs": [],
   "source": [
    "training_images_path_CuS = './autoindexingDP/CuS/'\n",
    "training_images_path_CuS2 = './autoindexingDP/CuS2/'\n",
    "training_images_path_Cu7S4 = './autoindexingDP/Cu7S4/'"
   ]
  },
  {
   "cell_type": "code",
   "execution_count": 3,
   "metadata": {},
   "outputs": [],
   "source": [
    "def files2npy(path):\n",
    "    os.chdir(path)\n",
    "    print(os.getcwd())\n",
    "    compound = path.split('/')[2]\n",
    "    print(compound)\n",
    "    filenames = glob.glob('_*png')    \n",
    "    X = []\n",
    "\n",
    "    for f in filenames:\n",
    "        img = cv2.imread(f)\n",
    "        img_traning = cv2.cvtColor(img, cv2.COLOR_BGR2GRAY)\n",
    "        X.append(img_traning)\n",
    "    np.save('./images_tranining_%s.npy' % compound,X)\n",
    "    os.chdir('../..')\n",
    "    print(os.getcwd())\n",
    "    #print(X)\n",
    "    #.close()"
   ]
  },
  {
   "cell_type": "code",
   "execution_count": 4,
   "metadata": {},
   "outputs": [
    {
     "name": "stdout",
     "output_type": "stream",
     "text": [
      "C:\\Users\\User\\Desktop\n",
      "C:\\Users\\User\\Desktop\\autoindexingDP\\CuS\n",
      "CuS\n",
      "C:\\Users\\User\\Desktop\n",
      "C:\\Users\\User\\Desktop\\autoindexingDP\\CuS2\n",
      "CuS2\n",
      "C:\\Users\\User\\Desktop\n",
      "C:\\Users\\User\\Desktop\\autoindexingDP\\Cu7S4\n",
      "Cu7S4\n",
      "C:\\Users\\User\\Desktop\n"
     ]
    }
   ],
   "source": [
    "print(os.getcwd())\n",
    "files2npy(training_images_path_CuS)\n",
    "files2npy(training_images_path_CuS2)\n",
    "files2npy(training_images_path_Cu7S4)"
   ]
  },
  {
   "cell_type": "code",
   "execution_count": 5,
   "metadata": {},
   "outputs": [],
   "source": [
    "def load_npy(path,label):\n",
    "    os.chdir(path)\n",
    "    print(os.getcwd())\n",
    "    compound = path.split('/')[2]\n",
    "    print(compound)\n",
    "    X = np.load('images_tranining_%s.npy' %compound)\n",
    "    y = np.full(len(X),label)\n",
    "    os.chdir('../../')\n",
    "    print(os.getcwd())\n",
    "    return X, y"
   ]
  },
  {
   "cell_type": "code",
   "execution_count": null,
   "metadata": {},
   "outputs": [],
   "source": []
  },
  {
   "cell_type": "code",
   "execution_count": null,
   "metadata": {},
   "outputs": [
    {
     "name": "stdout",
     "output_type": "stream",
     "text": [
      "C:\\Users\\User\\Desktop\n",
      "C:\\Users\\User\\Desktop\\autoindexingDP\\CuS\n",
      "CuS\n",
      "C:\\Users\\User\\Desktop\n",
      "C:\\Users\\User\\Desktop\\autoindexingDP\\CuS2\n",
      "CuS2\n",
      "C:\\Users\\User\\Desktop\n",
      "692208000\n",
      "1600\n",
      "C:\\Users\\User\\Desktop\\autoindexingDP\\Cu7S4\n",
      "Cu7S4\n",
      "C:\\Users\\User\\Desktop\n"
     ]
    }
   ],
   "source": [
    "print(os.getcwd())\n",
    "\n",
    "X = []\n",
    "y = []\n",
    "inp1, outp1 = load_npy(training_images_path_CuS,0)\n",
    "X.extend(inp1)\n",
    "y.extend(outp1)\n",
    "\n",
    "inp2, outp2 = load_npy(training_images_path_CuS2,1)\n",
    "X.extend(inp2)\n",
    "y.extend(outp2)\n",
    "print(inp2.size*inp2.itemsize)\n",
    "print(outp2.size*outp2.itemsize)\n",
    "\n",
    "inp3, outp3 = load_npy(training_images_path_Cu7S4,2)\n",
    "X.extend(inp3)\n",
    "y.extend(outp3)\n",
    "\n",
    "np.save('./images_tranining.npy', X)\n",
    "np.save('./images_labels.npy', y)"
   ]
  },
  {
   "cell_type": "code",
   "execution_count": null,
   "metadata": {},
   "outputs": [],
   "source": [
    "print(os.getcwd())\n",
    "X = np.load('images_tranining.npy')\n",
    "y = np.load('images_labels.npy')\n",
    "\n",
    "print(\"Training data loaded.\", \"\\nno. of images in the training set:\", str(X.shape[0]),\n",
    "      \"\\nresolution of each image:\", str((X.shape[1], X.shape[2])))"
   ]
  },
  {
   "cell_type": "code",
   "execution_count": null,
   "metadata": {},
   "outputs": [],
   "source": [
    "class_names = ['CuS', 'CuS2','Cu7S4']"
   ]
  },
  {
   "cell_type": "code",
   "execution_count": null,
   "metadata": {},
   "outputs": [],
   "source": [
    "from sklearn.model_selection import train_test_split\n",
    "X_train, X_test, y_train, y_test = train_test_split(X, y, test_size=0.2, random_state=42)\n",
    "print(len(X_train), len(X_test), len(y_train), len(y_test))"
   ]
  },
  {
   "cell_type": "code",
   "execution_count": null,
   "metadata": {},
   "outputs": [],
   "source": [
    "plt.figure()\n",
    "plt.imshow(X_train[0])\n",
    "plt.colorbar()\n",
    "plt.grid(False)\n",
    "plt.show()"
   ]
  },
  {
   "cell_type": "code",
   "execution_count": null,
   "metadata": {},
   "outputs": [],
   "source": [
    "print(y_train[0])"
   ]
  },
  {
   "cell_type": "code",
   "execution_count": null,
   "metadata": {},
   "outputs": [],
   "source": [
    "X_train = X_train / 255.0\n",
    "\n",
    "X_test = X_test / 255.0"
   ]
  },
  {
   "cell_type": "code",
   "execution_count": null,
   "metadata": {},
   "outputs": [],
   "source": [
    "plt.figure(figsize=(10,10))\n",
    "for i in range(25):\n",
    "    plt.subplot(5,5,i+1)\n",
    "    plt.xticks([])\n",
    "    plt.yticks([])\n",
    "    plt.grid(False)\n",
    "    plt.imshow(X_train[i], cmap=plt.cm.binary)\n",
    "    plt.xlabel(class_names[y_train[i]])\n",
    "plt.show()"
   ]
  },
  {
   "cell_type": "code",
   "execution_count": null,
   "metadata": {},
   "outputs": [],
   "source": [
    "from __future__ import absolute_import, division, print_function, unicode_literals, unicode_literals\n",
    "\n",
    "# tensorflow와 tf.keras를 임포트합니다\n",
    "import tensorflow as tf\n",
    "from tensorflow import keras\n",
    "from keras.models import Sequential\n",
    "from keras.layers import Dense, Conv2D, Flatten\n",
    "\n",
    "print(tf.__version__)"
   ]
  },
  {
   "cell_type": "code",
   "execution_count": null,
   "metadata": {},
   "outputs": [],
   "source": [
    "# Nature Comm. 2018, 9:2775 에 나온 architecture\n",
    "\n",
    "#model = keras.Sequential()\n",
    "#model.add(Conv2D(32, kernel_size = 7))\n",
    "#model.add(Conv2D(32, kernel_size = 7))\n",
    "#model.add(MaxPooling2D(pool_size=2, strides=2))\n",
    "#model.add(Conv2D(16, kernel_size = 7))\n",
    "#model.add(Conv2D(16, kernel_size = 7))\n",
    "#model.add(MaxPooling2D(pool_size=2, strides=2))\n",
    "#model.add(Conv2D(8, kernel_size = 7))\n",
    "#model.add(Conv2D(8, kernel_size = 7))\n",
    "#model.add(Dense(128))\n",
    "#model.add(Dropout(0.25))\n"
   ]
  },
  {
   "cell_type": "code",
   "execution_count": null,
   "metadata": {},
   "outputs": [],
   "source": [
    "model = keras.Sequential([\n",
    "    keras.layers.Flatten(input_shape=(1035, 1672)),\n",
    "    keras.layers.Dense(128, activation=tf.nn.relu),\n",
    "    keras.layers.Dense(3, activation=tf.nn.softmax)\n",
    "])"
   ]
  },
  {
   "cell_type": "code",
   "execution_count": null,
   "metadata": {},
   "outputs": [],
   "source": [
    "model.compile(optimizer='adam',\n",
    "             loss = 'sparse_categorical_crossentropy',\n",
    "             metrics=['accuracy'])"
   ]
  },
  {
   "cell_type": "code",
   "execution_count": null,
   "metadata": {},
   "outputs": [],
   "source": [
    "model.summary()"
   ]
  },
  {
   "cell_type": "code",
   "execution_count": null,
   "metadata": {},
   "outputs": [],
   "source": [
    "model.fit(X_train, y_train, epochs=5)"
   ]
  },
  {
   "cell_type": "code",
   "execution_count": null,
   "metadata": {},
   "outputs": [],
   "source": [
    "test_loss, test_acc = model.evaluate(X_test, y_test)\n",
    "\n",
    "print('테스트 정확도:', test_acc)"
   ]
  },
  {
   "cell_type": "code",
   "execution_count": null,
   "metadata": {},
   "outputs": [],
   "source": [
    "predictions = model.predict(X_test)"
   ]
  },
  {
   "cell_type": "code",
   "execution_count": null,
   "metadata": {},
   "outputs": [],
   "source": [
    "predictions[0]"
   ]
  },
  {
   "cell_type": "code",
   "execution_count": 27,
   "metadata": {},
   "outputs": [
    {
     "data": {
      "text/plain": [
       "2"
      ]
     },
     "execution_count": 27,
     "metadata": {},
     "output_type": "execute_result"
    }
   ],
   "source": [
    "np.argmax(predictions[0])"
   ]
  },
  {
   "cell_type": "code",
   "execution_count": 28,
   "metadata": {},
   "outputs": [
    {
     "data": {
      "text/plain": [
       "2"
      ]
     },
     "execution_count": 28,
     "metadata": {},
     "output_type": "execute_result"
    }
   ],
   "source": [
    "y_test[0]"
   ]
  },
  {
   "cell_type": "code",
   "execution_count": 49,
   "metadata": {},
   "outputs": [],
   "source": [
    "def plot_image(i, predictions_array, true_label, img):\n",
    "  predictions_array, true_label, img = predictions_array[i], true_label[i], img[i]\n",
    "  plt.grid(False)\n",
    "  plt.xticks([])\n",
    "  plt.yticks([])\n",
    "\n",
    "  plt.imshow(img, cmap=plt.cm.binary)\n",
    "\n",
    "  predicted_label = np.argmax(predictions_array)\n",
    "  if predicted_label == true_label:\n",
    "    color = 'blue'\n",
    "  else:\n",
    "    color = 'red'\n",
    "\n",
    "  plt.xlabel(\"{} {:2.0f}% ({})\".format(class_names[predicted_label],\n",
    "                                100*np.max(predictions_array),\n",
    "                                class_names[true_label]),\n",
    "                                color=color)\n",
    "\n",
    "def plot_value_array(i, predictions_array, true_label):\n",
    "  a = len(true_label)\n",
    "  print(a)\n",
    "  print(predictions_array)\n",
    "  predictions_array, true_label = predictions_array[i], true_label[i]\n",
    "  print(predictions_array)\n",
    "  plt.grid(False)\n",
    "  plt.xticks([])\n",
    "  plt.yticks([])\n",
    "  thisplot = plt.bar(range(10), predictions_array, color=\"#777777\")\n",
    "  plt.ylim([0, 1])\n",
    "  predicted_label = np.argmax(predictions_array)\n",
    "\n",
    "  thisplot[predicted_label].set_color('red')\n",
    "  thisplot[true_label].set_color('blue')"
   ]
  },
  {
   "cell_type": "code",
   "execution_count": 50,
   "metadata": {},
   "outputs": [
    {
     "name": "stdout",
     "output_type": "stream",
     "text": [
      "240\n",
      "[[0. 0. 1. ... 0. 0. 0.]\n",
      " [0. 0. 1. ... 0. 0. 0.]\n",
      " [0. 0. 1. ... 0. 0. 0.]\n",
      " ...\n",
      " [0. 0. 1. ... 0. 0. 0.]\n",
      " [0. 0. 1. ... 0. 0. 0.]\n",
      " [0. 0. 1. ... 0. 0. 0.]]\n",
      "[0. 0. 1. 0. 0. 0. 0. 0. 0. 0.]\n",
      "[2 2 0 1 0 2 0 2 1 2 2 0 0 2 0 0 1 1 2 1 0 1 1 0 0 0 1 1 0 1 0 2 1 1 0 1 1\n",
      " 0 0 1 2 0 2 0 2 0 0 0 0 0 1 2 0 0 2 0 2 2 2 0 0 0 0 0 0 2 0 1 1 1 1 0 2 0\n",
      " 0 1 0 0 2 2 2 0 2 0 1 2 2 0 2 1 1 1 0 0 2 1 1 2 0 0 1 0 1 0 2 1 2 2 2 2 0\n",
      " 2 0 2 1 2 0 0 1 0 1 2 2 2 1 2 0 0 1 1 0 2 0 0 2 1 1 1 1 2 2 1 0 1 1 1 1 1\n",
      " 1 1 2 0 1 0 2 1 0 0 2 0 2 2 2 0 0 2 0 2 2 0 1 2 0 0 0 1 0 2 0 1 1 2 0 2 0\n",
      " 2 1 2 1 1 2 1 0 2 1 0 0 2 2 0 2 2 1 2 2 0 1 1 1 2 2 1 1 2 2 0 1 0 1 1 2 2\n",
      " 2 2 0 1 1 0 0 1 0 0 2 1 2 0 2 1 2 2]\n"
     ]
    },
    {
     "data": {
      "image/png": "[encoded data removed]",
      "text/plain": [
       "<Figure size 432x216 with 2 Axes>"
      ]
     },
     "metadata": {},
     "output_type": "display_data"
    }
   ],
   "source": [
    "i = 0\n",
    "plt.figure(figsize=(6,3))\n",
    "plt.subplot(1,2,1)\n",
    "plot_image(i, predictions, y_test, X_test)\n",
    "plt.subplot(1,2,2)\n",
    "plot_value_array(i, predictions,  y_test)\n",
    "print(y_test)\n",
    "plt.show()"
   ]
  },
  {
   "cell_type": "code",
   "execution_count": null,
   "metadata": {},
   "outputs": [],
   "source": [
    "i = 12\n",
    "plt.figure(figsize=(6,3))\n",
    "plt.subplot(1,2,1)\n",
    "plot_image(i, predictions, y_test, X_test)\n",
    "plt.subplot(1,2,2)\n",
    "plot_value_array(i, predictions,  y_test)\n",
    "plt.show()"
   ]
  },
  {
   "cell_type": "code",
   "execution_count": 32,
   "metadata": {},
   "outputs": [
    {
     "data": {
      "image/png": "[encoded data removed]",
      "text/plain": [
       "<Figure size 864x720 with 30 Axes>"
      ]
     },
     "metadata": {},
     "output_type": "display_data"
    }
   ],
   "source": [
    "# 처음 X 개의 테스트 이미지와 예측 레이블, 진짜 레이블을 출력합니다\n",
    "# 올바른 예측은 파랑색으로 잘못된 예측은 빨강색으로 나타냅니다\n",
    "num_rows = 5\n",
    "num_cols = 3\n",
    "num_images = num_rows*num_cols\n",
    "plt.figure(figsize=(2*2*num_cols, 2*num_rows))\n",
    "for i in range(num_images):\n",
    "  plt.subplot(num_rows, 2*num_cols, 2*i+1)\n",
    "  plot_image(i, predictions, y_test, X_test)\n",
    "  plt.subplot(num_rows, 2*num_cols, 2*i+2)\n",
    "  plot_value_array(i, predictions, y_test)\n",
    "plt.show()"
   ]
  },
  {
   "cell_type": "code",
   "execution_count": null,
   "metadata": {},
   "outputs": [],
   "source": []
  }
 ],
 "metadata": {
  "kernelspec": {
   "display_name": "Python 3",
   "language": "python",
   "name": "python3"
  },
  "language_info": {
   "codemirror_mode": {
    "name": "ipython",
    "version": 3
   },
   "file_extension": ".py",
   "mimetype": "text/x-python",
   "name": "python",
   "nbconvert_exporter": "python",
   "pygments_lexer": "ipython3",
   "version": "3.6.8"
  }
 },
 "nbformat": 4,
 "nbformat_minor": 4
}
